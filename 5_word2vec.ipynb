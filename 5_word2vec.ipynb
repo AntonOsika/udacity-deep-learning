{
 "cells": [
  {
   "cell_type": "markdown",
   "metadata": {
    "colab_type": "text",
    "id": "D7tqLMoKF6uq"
   },
   "source": [
    "Deep Learning\n",
    "=============\n",
    "\n",
    "Assignment 5\n",
    "------------\n",
    "\n",
    "The goal of this assignment is to train a skip-gram model over [Text8](http://mattmahoney.net/dc/textdata) data."
   ]
  },
  {
   "cell_type": "code",
   "execution_count": 2,
   "metadata": {
    "cellView": "both",
    "colab": {
     "autoexec": {
      "startup": false,
      "wait_interval": 0
     }
    },
    "colab_type": "code",
    "collapsed": true,
    "id": "0K1ZyLn04QZf"
   },
   "outputs": [],
   "source": [
    "# These are all the modules we'll be using later. Make sure you can import them\n",
    "# before proceeding further.\n",
    "import collections\n",
    "import math\n",
    "import numpy as np\n",
    "import os\n",
    "import random\n",
    "import tensorflow as tf\n",
    "import urllib\n",
    "import zipfile\n",
    "from matplotlib import pylab\n",
    "from sklearn.manifold import TSNE"
   ]
  },
  {
   "cell_type": "markdown",
   "metadata": {
    "colab_type": "text",
    "id": "aCjPJE944bkV"
   },
   "source": [
    "Download the data from the source website if necessary."
   ]
  },
  {
   "cell_type": "code",
   "execution_count": 3,
   "metadata": {
    "cellView": "both",
    "colab": {
     "autoexec": {
      "startup": false,
      "wait_interval": 0
     },
     "output_extras": [
      {
       "item_id": 1
      }
     ]
    },
    "colab_type": "code",
    "collapsed": false,
    "executionInfo": {
     "elapsed": 14640,
     "status": "ok",
     "timestamp": 1445964482948,
     "user": {
      "color": "#1FA15D",
      "displayName": "Vincent Vanhoucke",
      "isAnonymous": false,
      "isMe": true,
      "permissionId": "05076109866853157986",
      "photoUrl": "//lh6.googleusercontent.com/-cCJa7dTDcgQ/AAAAAAAAAAI/AAAAAAAACgw/r2EZ_8oYer4/s50-c-k-no/photo.jpg",
      "sessionId": "2f1ffade4c9f20de",
      "userId": "102167687554210253930"
     },
     "user_tz": 420
    },
    "id": "RJ-o3UBUFtCw",
    "outputId": "c4ec222c-80b5-4298-e635-93ca9f79c3b7"
   },
   "outputs": [
    {
     "name": "stdout",
     "output_type": "stream",
     "text": [
      "Found and verified text8.zip\n"
     ]
    }
   ],
   "source": [
    "url = 'http://mattmahoney.net/dc/'\n",
    "\n",
    "def maybe_download(filename, expected_bytes):\n",
    "  \"\"\"Download a file if not present, and make sure it's the right size.\"\"\"\n",
    "  if not os.path.exists(filename):\n",
    "    filename, _ = urllib.urlretrieve(url + filename, filename)\n",
    "  statinfo = os.stat(filename)\n",
    "  if statinfo.st_size == expected_bytes:\n",
    "    print 'Found and verified', filename\n",
    "  else:\n",
    "    print statinfo.st_size\n",
    "    raise Exception(\n",
    "      'Failed to verify ' + filename + '. Can you get to it with a browser?')\n",
    "  return filename\n",
    "\n",
    "filename = maybe_download('text8.zip', 31344016)"
   ]
  },
  {
   "cell_type": "markdown",
   "metadata": {
    "colab_type": "text",
    "id": "Zqz3XiqI4mZT"
   },
   "source": [
    "Read the data into a string."
   ]
  },
  {
   "cell_type": "code",
   "execution_count": 4,
   "metadata": {
    "cellView": "both",
    "colab": {
     "autoexec": {
      "startup": false,
      "wait_interval": 0
     },
     "output_extras": [
      {
       "item_id": 1
      }
     ]
    },
    "colab_type": "code",
    "collapsed": false,
    "executionInfo": {
     "elapsed": 28844,
     "status": "ok",
     "timestamp": 1445964497165,
     "user": {
      "color": "#1FA15D",
      "displayName": "Vincent Vanhoucke",
      "isAnonymous": false,
      "isMe": true,
      "permissionId": "05076109866853157986",
      "photoUrl": "//lh6.googleusercontent.com/-cCJa7dTDcgQ/AAAAAAAAAAI/AAAAAAAACgw/r2EZ_8oYer4/s50-c-k-no/photo.jpg",
      "sessionId": "2f1ffade4c9f20de",
      "userId": "102167687554210253930"
     },
     "user_tz": 420
    },
    "id": "Mvf09fjugFU_",
    "outputId": "e3a928b4-1645-4fe8-be17-fcf47de5716d"
   },
   "outputs": [
    {
     "name": "stdout",
     "output_type": "stream",
     "text": [
      "Data size 17005207\n"
     ]
    }
   ],
   "source": [
    "def read_data(filename):\n",
    "  f = zipfile.ZipFile(filename)\n",
    "  for name in f.namelist():\n",
    "    return f.read(name).split()\n",
    "  f.close()\n",
    "  \n",
    "words = read_data(filename)\n",
    "print 'Data size', len(words)"
   ]
  },
  {
   "cell_type": "markdown",
   "metadata": {
    "colab_type": "text",
    "id": "Zdw6i4F8glpp"
   },
   "source": [
    "Build the dictionary and replace rare words with UNK token."
   ]
  },
  {
   "cell_type": "code",
   "execution_count": 5,
   "metadata": {
    "cellView": "both",
    "colab": {
     "autoexec": {
      "startup": false,
      "wait_interval": 0
     },
     "output_extras": [
      {
       "item_id": 1
      }
     ]
    },
    "colab_type": "code",
    "collapsed": false,
    "executionInfo": {
     "elapsed": 28849,
     "status": "ok",
     "timestamp": 1445964497178,
     "user": {
      "color": "#1FA15D",
      "displayName": "Vincent Vanhoucke",
      "isAnonymous": false,
      "isMe": true,
      "permissionId": "05076109866853157986",
      "photoUrl": "//lh6.googleusercontent.com/-cCJa7dTDcgQ/AAAAAAAAAAI/AAAAAAAACgw/r2EZ_8oYer4/s50-c-k-no/photo.jpg",
      "sessionId": "2f1ffade4c9f20de",
      "userId": "102167687554210253930"
     },
     "user_tz": 420
    },
    "id": "gAL1EECXeZsD",
    "outputId": "3fb4ecd1-df67-44b6-a2dc-2291730970b2"
   },
   "outputs": [
    {
     "name": "stdout",
     "output_type": "stream",
     "text": [
      "Most common words (+UNK) [['UNK', 418391], ('the', 1061396), ('of', 593677), ('and', 416629), ('one', 411764)]\n",
      "Sample data [5239, 3084, 12, 6, 195, 2, 3137, 46, 59, 156]\n"
     ]
    }
   ],
   "source": [
    "vocabulary_size = 50000\n",
    "\n",
    "def build_dataset(words):\n",
    "  count = [['UNK', -1]]\n",
    "  count.extend(collections.Counter(words).most_common(vocabulary_size - 1))\n",
    "  dictionary = dict()\n",
    "  for word, _ in count:\n",
    "    dictionary[word] = len(dictionary)\n",
    "  data = list()\n",
    "  unk_count = 0\n",
    "  for word in words:\n",
    "    if word in dictionary:\n",
    "      index = dictionary[word]\n",
    "    else:\n",
    "      index = 0  # dictionary['UNK']\n",
    "      unk_count = unk_count + 1\n",
    "    data.append(index)\n",
    "  count[0][1] = unk_count\n",
    "  reverse_dictionary = dict(zip(dictionary.values(), dictionary.keys())) \n",
    "  return data, count, dictionary, reverse_dictionary\n",
    "\n",
    "data, count, dictionary, reverse_dictionary = build_dataset(words)\n",
    "print 'Most common words (+UNK)', count[:5]\n",
    "print 'Sample data', data[:10]\n",
    "del words  # Hint to reduce memory."
   ]
  },
  {
   "cell_type": "markdown",
   "metadata": {
    "colab_type": "text",
    "id": "lFwoyygOmWsL"
   },
   "source": [
    "Function to generate a training batch for the skip-gram model."
   ]
  },
  {
   "cell_type": "code",
   "execution_count": 23,
   "metadata": {
    "cellView": "both",
    "colab": {
     "autoexec": {
      "startup": false,
      "wait_interval": 0
     },
     "output_extras": [
      {
       "item_id": 1
      }
     ]
    },
    "colab_type": "code",
    "collapsed": false,
    "executionInfo": {
     "elapsed": 113,
     "status": "ok",
     "timestamp": 1445964901989,
     "user": {
      "color": "#1FA15D",
      "displayName": "Vincent Vanhoucke",
      "isAnonymous": false,
      "isMe": true,
      "permissionId": "05076109866853157986",
      "photoUrl": "//lh6.googleusercontent.com/-cCJa7dTDcgQ/AAAAAAAAAAI/AAAAAAAACgw/r2EZ_8oYer4/s50-c-k-no/photo.jpg",
      "sessionId": "2f1ffade4c9f20de",
      "userId": "102167687554210253930"
     },
     "user_tz": 420
    },
    "id": "w9APjA-zmfjV",
    "outputId": "67cccb02-cdaf-4e47-d489-43bcc8d57bb8"
   },
   "outputs": [
    {
     "name": "stdout",
     "output_type": "stream",
     "text": [
      "3084 -> 12\n",
      "originated -> as\n",
      "3084 -> 5239\n",
      "originated -> anarchism\n",
      "12 -> 3084\n",
      "as -> originated\n",
      "12 -> 6\n",
      "as -> a\n",
      "6 -> 195\n",
      "a -> term\n",
      "6 -> 12\n",
      "a -> as\n",
      "195 -> 2\n",
      "term -> of\n",
      "195 -> 6\n",
      "term -> a\n"
     ]
    }
   ],
   "source": [
    "data_index = 0\n",
    "\n",
    "def generate_batch(batch_size, num_skips, skip_window):\n",
    "  global data_index\n",
    "  assert batch_size % num_skips == 0\n",
    "  assert num_skips <= 2 * skip_window\n",
    "  batch = np.ndarray(shape=(batch_size), dtype=np.int32)\n",
    "  labels = np.ndarray(shape=(batch_size, 1), dtype=np.int32)\n",
    "  span = 2 * skip_window + 1 # [ skip_window target skip_window ]\n",
    "  buffer = collections.deque(maxlen=span)\n",
    "  for _ in range(span):\n",
    "    buffer.append(data[data_index])\n",
    "    data_index = (data_index + 1) % len(data)\n",
    "  for i in range(batch_size / num_skips):\n",
    "    target = skip_window  # target label at the center of the buffer\n",
    "    targets_to_avoid = [ skip_window ]\n",
    "    for j in range(num_skips):\n",
    "      while target in targets_to_avoid:\n",
    "        target = random.randint(0, span - 1)\n",
    "      targets_to_avoid.append(target)\n",
    "      batch[i * num_skips + j] = buffer[skip_window]\n",
    "      labels[i * num_skips + j, 0] = buffer[target]\n",
    "    buffer.append(data[data_index])\n",
    "    data_index = (data_index + 1) % len(data)\n",
    "  return batch, labels\n",
    "\n",
    "batch, labels = generate_batch(batch_size=8, num_skips=2, skip_window=1)\n",
    "for i in range(8):\n",
    "  print batch[i], '->', labels[i, 0]\n",
    "  print reverse_dictionary[batch[i]], '->', reverse_dictionary[labels[i, 0]]"
   ]
  },
  {
   "cell_type": "markdown",
   "metadata": {
    "colab_type": "text",
    "id": "Ofd1MbBuwiva"
   },
   "source": [
    "Train a skip-gram model."
   ]
  },
  {
   "cell_type": "code",
   "execution_count": 24,
   "metadata": {
    "cellView": "both",
    "colab": {
     "autoexec": {
      "startup": false,
      "wait_interval": 0
     }
    },
    "colab_type": "code",
    "collapsed": true,
    "id": "8pQKsV4Vwlzy"
   },
   "outputs": [],
   "source": [
    "\"\"\" This should be the same as Word2Vec\n",
    "batch_size = 128\n",
    "embedding_size = 128 # Dimension of the embedding vector.\n",
    "skip_window = 1 # How many words to consider left and right.\n",
    "\n",
    "# We pick a random validation set to sample nearest neighbors. here we limit the\n",
    "# validation samples to the words that have a low numeric ID, which by\n",
    "# construction are also the most frequent. \n",
    "valid_size = 16 # Random set of words to evaluate similarity on.\n",
    "valid_window = 100 # Only pick dev samples in the head of the distribution.\n",
    "valid_examples = np.array(random.sample(xrange(valid_window), valid_size))\n",
    "num_sampled = 64 # Number of negative examples to sample.\n",
    "\n",
    "\"\"\"\n",
    "batch_size = 128\n",
    "embedding_size = 128 # Dimension of the embedding vector.\n",
    "skip_window = 1 # How many words to consider left and right.\n",
    "num_skips = 2 # How many times to reuse an input to generate a label.\n",
    "# We pick a random validation set to sample nearest neighbors. here we limit the\n",
    "# validation samples to the words that have a low numeric ID, which by\n",
    "# construction are also the most frequent. \n",
    "valid_size = 16 # Random set of words to evaluate similarity on.\n",
    "valid_window = 100 # Only pick dev samples in the head of the distribution.\n",
    "valid_examples = np.array(random.sample(xrange(valid_window), valid_size))\n",
    "num_sampled = 64 # Number of negative examples to sample.\n",
    "\n",
    "graph = tf.Graph()\n",
    "\n",
    "with graph.as_default():\n",
    "\n",
    "  # Input data.\n",
    "  train_dataset = tf.placeholder(tf.int32, shape=[batch_size])\n",
    "  train_labels = tf.placeholder(tf.int32, shape=[batch_size, 1])\n",
    "  valid_dataset = tf.constant(valid_examples, dtype=tf.int32)\n",
    "  \n",
    "  # Variables.\n",
    "  embeddings = tf.Variable(\n",
    "    tf.random_uniform([vocabulary_size, embedding_size], -1.0, 1.0))\n",
    "  softmax_weights = tf.Variable(\n",
    "    tf.truncated_normal([vocabulary_size, embedding_size],\n",
    "                         stddev=1.0 / math.sqrt(embedding_size)))\n",
    "  softmax_biases = tf.Variable(tf.zeros([vocabulary_size]))\n",
    "  \n",
    "  # Model.\n",
    "  # Look up embeddings for inputs.\n",
    "  embed = tf.nn.embedding_lookup(embeddings, train_dataset)\n",
    "  # Compute the softmax loss, using a sample of the negative labels each time.\n",
    "  loss = tf.reduce_mean(\n",
    "    tf.nn.sampled_softmax_loss(softmax_weights, softmax_biases, embed,\n",
    "                               train_labels, num_sampled, vocabulary_size))\n",
    "\n",
    "  # Optimizer.\n",
    "  optimizer = tf.train.AdagradOptimizer(1.0).minimize(loss)\n",
    "  \n",
    "  # Compute the similarity between minibatch examples and all embeddings.\n",
    "  # We use the cosine distance:\n",
    "  norm = tf.sqrt(tf.reduce_sum(tf.square(embeddings), 1, keep_dims=True))\n",
    "  normalized_embeddings = embeddings / norm\n",
    "  valid_embeddings = tf.nn.embedding_lookup(\n",
    "    normalized_embeddings, valid_dataset)\n",
    "  similarity = tf.matmul(valid_embeddings, tf.transpose(normalized_embeddings))"
   ]
  },
  {
   "cell_type": "code",
   "execution_count": 25,
   "metadata": {
    "cellView": "both",
    "colab": {
     "autoexec": {
      "startup": false,
      "wait_interval": 0
     },
     "output_extras": [
      {
       "item_id": 23
      },
      {
       "item_id": 48
      },
      {
       "item_id": 61
      }
     ]
    },
    "colab_type": "code",
    "collapsed": false,
    "executionInfo": {
     "elapsed": 436189,
     "status": "ok",
     "timestamp": 1445965429787,
     "user": {
      "color": "#1FA15D",
      "displayName": "Vincent Vanhoucke",
      "isAnonymous": false,
      "isMe": true,
      "permissionId": "05076109866853157986",
      "photoUrl": "//lh6.googleusercontent.com/-cCJa7dTDcgQ/AAAAAAAAAAI/AAAAAAAACgw/r2EZ_8oYer4/s50-c-k-no/photo.jpg",
      "sessionId": "2f1ffade4c9f20de",
      "userId": "102167687554210253930"
     },
     "user_tz": 420
    },
    "id": "1bQFGceBxrWW",
    "outputId": "5ebd6d9a-33c6-4bcd-bf6d-252b0b6055e4"
   },
   "outputs": [
    {
     "name": "stdout",
     "output_type": "stream",
     "text": [
      "Initialized\n",
      "Average loss at step 0 : 8.1941576004\n",
      "Nearest to one: geysers, arrhenius, kt, coprophagia, erd, iris, activator, elbert,\n",
      "Nearest to d: exterminating, components, verizon, zip, nord, microchip, defiant, hailing,\n",
      "Nearest to as: init, hutchins, handlebars, lorry, housework, yakuza, namely, auditioning,\n",
      "Nearest to UNK: accreditation, conveys, incoherent, ethertype, syllabic, juniper, gyro, knightly,\n",
      "Nearest to to: aleister, necessitates, censorial, grow, wind, ningen, plucking, redness,\n",
      "Nearest to see: launching, hierarchy, cyberpunk, baseline, pliny, treaty, smoky, spectroscopic,\n",
      "Nearest to war: feral, botanists, parmenides, glutamate, essai, manicheanism, soprano, persuaded,\n",
      "Nearest to but: turks, visibility, damon, real, plausibility, defected, harmonica, impure,\n",
      "Nearest to by: suborbital, istria, vinci, hardback, mendes, caius, batting, captives,\n",
      "Nearest to two: sipe, caricom, walk, livejournal, prs, rst, pastor, testosterone,\n",
      "Nearest to first: shrew, republik, insurers, dyson, elizabethan, mont, caring, brink,\n",
      "Nearest to into: divider, passionate, he, eccles, sad, tiered, projecting, earth,\n",
      "Nearest to on: ave, substituting, corpora, voltages, decidable, minimising, microvision, index,\n",
      "Nearest to these: cryobiology, pretended, guggenheim, chivalry, bugzilla, researches, orestes, coastlines,\n",
      "Nearest to about: anzus, structures, dtmf, instance, bassists, reduced, bondi, cobbler,\n",
      "Nearest to when: sophomore, hardly, inquiries, erasing, guardian, jutland, drug, coerced,\n",
      "Average loss at step 2000 : 4.35624240053\n",
      "Average loss at step 4000 : 3.86199465726\n",
      "Average loss at step 6000 : 3.79121357077\n",
      "Average loss at step 8000 : 3.68866711628\n",
      "Average loss at step 10000 : 3.6068913632\n",
      "Nearest to one: two, three, six, eight, seven, four, five, zero,\n",
      "Nearest to d: gottes, b, defiant, exterminating, determines, components, thoughtful, vanities,\n",
      "Nearest to as: urgency, by, outposts, monoids, mikl, grabs, became, crumbling,\n",
      "Nearest to UNK: agave, consecutive, abound, esteemed, recommendation, voortrekkers, attempts, chickasaw,\n",
      "Nearest to to: jennie, plucking, not, execution, hor, looks, would, outcrops,\n",
      "Nearest to see: gaians, rejoined, antarctic, mysteries, baseline, barlaam, gts, priorities,\n",
      "Nearest to war: feral, parmenides, obsessed, signatures, soprano, poets, ibn, adrien,\n",
      "Nearest to but: though, it, would, beachcomber, kaj, buprenorphine, marija, defected,\n",
      "Nearest to by: was, assyria, with, from, ridges, and, be, as,\n",
      "Nearest to two: four, three, five, six, eight, seven, nine, one,\n",
      "Nearest to first: xvii, dickson, drafted, ternary, during, dyson, second, shrew,\n",
      "Nearest to into: projecting, from, including, divider, by, passionate, gerhardt, diaries,\n",
      "Nearest to on: in, of, gypsies, kang, by, constricted, from, rainforest,\n",
      "Nearest to these: attributable, cryobiology, grammar, are, significant, monsoons, many, produce,\n",
      "Nearest to about: anzus, dtmf, homme, weymouth, partially, foulke, cobbler, turbocharger,\n",
      "Nearest to when: newer, drug, hack, shouted, jutland, guardian, exceeds, begging,\n",
      "Average loss at step 12000 : 3.60344802105\n",
      "Average loss at step 14000 : 3.56744631964\n",
      "Average loss at step 16000 : 3.40661336568\n",
      "Average loss at step 18000 : 3.45122099304\n",
      "Average loss at step 20000 : 3.5367698524\n",
      "Nearest to one: two, four, five, eight, three, seven, six, nine,\n",
      "Nearest to d: b, thoughtful, levite, defiant, exterminating, harrow, quarterback, oates,\n",
      "Nearest to as: tillich, arab, velde, lenient, positivists, hagelin, reddy, benzoic,\n",
      "Nearest to UNK: depreciation, supplementation, academic, batting, suitability, compostela, heller, j,\n",
      "Nearest to to: not, can, will, moneo, would, may, boo, citt,\n",
      "Nearest to see: stallman, gaians, squash, czes, hourglass, xp, antarctic, caveat,\n",
      "Nearest to war: obsessed, parmenides, signatures, org, adrien, poets, survival, gladstone,\n",
      "Nearest to but: though, however, which, that, would, accomplish, and, pinning,\n",
      "Nearest to by: be, were, against, from, into, cantata, was, pri,\n",
      "Nearest to two: three, five, four, six, seven, one, eight, zero,\n",
      "Nearest to first: xvii, second, last, dickson, ternary, migratory, moors, abbahu,\n",
      "Nearest to into: from, projecting, by, upgrade, outer, on, articulations, medway,\n",
      "Nearest to on: in, at, rainforest, overall, during, into, from, scrapped,\n",
      "Nearest to these: many, some, all, brummell, attributable, which, grammar, such,\n",
      "Nearest to about: anzus, dtmf, partially, ignoring, sulfide, warn, foulke, over,\n",
      "Nearest to when: shouted, if, drug, became, though, after, under, hack,\n",
      "Average loss at step 22000 : 3.50219120294\n",
      "Average loss at step 24000 : 3.48899479115\n",
      "Average loss at step 26000 : 3.48037327957\n",
      "Average loss at step 28000 : 3.4783726849\n",
      "Average loss at step 30000 : 3.49992084798\n",
      "Nearest to one: two, seven, four, six, eight, five, three, nine,\n",
      "Nearest to d: b, thoughtful, exterminating, oates, harrow, defiant, purer, undertakes,\n",
      "Nearest to as: by, under, apply, became, be, lenient, benzoic, tillich,\n",
      "Nearest to UNK: rightarrow, savory, agave, supplementation, glas, discard, inversely, unseen,\n",
      "Nearest to to: would, will, shall, may, can, not, amiens, should,\n",
      "Nearest to see: gaians, list, networking, squash, mahayana, unstoppable, hyperbola, firmly,\n",
      "Nearest to war: obsessed, gladstone, signatures, survival, parmenides, haller, trisomy, manatus,\n",
      "Nearest to but: however, and, although, which, though, that, untreated, or,\n",
      "Nearest to by: was, were, as, in, from, under, be, been,\n",
      "Nearest to two: four, one, three, five, seven, eight, six, nine,\n",
      "Nearest to first: second, last, xvii, dickson, final, ternary, inspirations, atomic,\n",
      "Nearest to into: from, projecting, upgrade, outer, on, with, through, articulations,\n",
      "Nearest to on: in, upon, from, during, gypsies, puppets, into, brabham,\n",
      "Nearest to these: some, many, all, attributable, brummell, they, their, several,\n",
      "Nearest to about: anzus, partially, dtmf, latter, over, ignoring, foulke, warn,\n",
      "Nearest to when: if, after, though, before, where, until, under, gave,\n",
      "Average loss at step 32000 : 3.50359722525\n",
      "Average loss at step 34000 : 3.48814703232\n",
      "Average loss at step 36000 : 3.45398562682\n",
      "Average loss at step 38000 : 3.30044444472\n",
      "Average loss at step 40000 : 3.42767454976\n",
      "Nearest to one: seven, six, four, eight, two, three, five, nine,\n",
      "Nearest to d: b, thoughtful, UNK, exterminating, stilgar, harrow, vanities, purer,\n",
      "Nearest to as: tillich, when, by, qxd, jeju, leeuwenhoek, positivists, jpl,\n",
      "Nearest to UNK: b, d, cycled, sketched, prophet, juliet, gifs, and,\n",
      "Nearest to to: will, may, masterpieces, whipping, against, would, from, must,\n",
      "Nearest to see: list, include, squash, can, drinks, gaians, unstoppable, bce,\n",
      "Nearest to war: obsessed, signatures, gladstone, parmenides, survival, soldiers, haller, indentation,\n",
      "Nearest to but: however, though, although, and, buprenorphine, which, esperanto, it,\n",
      "Nearest to by: when, with, being, was, be, as, cantata, ridges,\n",
      "Nearest to two: four, three, six, five, seven, eight, one, nine,\n",
      "Nearest to first: second, last, next, final, dickson, inspirations, quixtar, nea,\n",
      "Nearest to into: from, through, outer, projecting, stoned, around, double, macron,\n",
      "Nearest to on: upon, in, gypsies, at, during, from, meanings, techs,\n",
      "Nearest to these: many, some, which, such, several, both, they, those,\n",
      "Nearest to about: over, ignoring, partially, anzus, dtmf, latter, foulke, comment,\n",
      "Nearest to when: if, before, while, after, where, until, as, though,\n",
      "Average loss at step 42000 : 3.43697726661\n",
      "Average loss at step 44000 : 3.45354018891\n",
      "Average loss at step 46000 : 3.45002117616\n",
      "Average loss at step 48000 : 3.34849236381\n",
      "Average loss at step 50000 : 3.38240389454\n",
      "Nearest to one: two, six, eight, four, seven, nine, three, five,\n",
      "Nearest to d: b, thoughtful, harrow, undertakes, c, heiland, o, defiant,\n",
      "Nearest to as: summon, became, practical, lyrically, when, hagelin, geralt, velde,\n",
      "Nearest to UNK: watersheds, fdl, ssy, honoria, dental, liars, j, rana,\n",
      "Nearest to to: whipping, would, syncopated, favre, dime, vacancy, can, practises,\n",
      "Nearest to see: squash, include, bce, unstoppable, gaians, list, drinker, mahayana,\n",
      "Nearest to war: obsessed, gladstone, signatures, survival, paso, parmenides, socio, lipids,\n",
      "Nearest to but: however, though, although, and, when, while, where, during,\n",
      "Nearest to by: under, being, through, chubut, was, with, throughout, onetime,\n",
      "Nearest to two: three, one, six, four, eight, five, seven, nine,\n",
      "Nearest to first: last, second, next, dickson, final, tanker, fourth, third,\n",
      "Nearest to into: through, from, outer, projecting, double, out, around, stoned,\n",
      "Nearest to on: upon, in, within, puppets, through, at, over, lonesome,\n",
      "Nearest to these: some, many, such, several, both, those, attributable, which,\n",
      "Nearest to about: over, dtmf, best, ignoring, latter, pacioli, partially, foulke,\n",
      "Nearest to when: if, while, before, after, where, but, until, though,\n",
      "Average loss at step 52000 : 3.4331945492\n",
      "Average loss at step 54000 : 3.42204704916\n",
      "Average loss at step 56000 : 3.43739831662\n",
      "Average loss at step 58000 : 3.3939255881\n",
      "Average loss at step 60000 : 3.39108958486\n",
      "Nearest to one: six, four, eight, seven, two, five, three, nine,\n",
      "Nearest to d: b, c, thoughtful, o, vanities, heiland, exterminating, harrow,\n",
      "Nearest to as: hagelin, bidirectional, rennie, became, positivists, summon, find, tillich,\n",
      "Nearest to UNK: cyclopaedia, belfry, jester, honoria, homo, microseconds, strachey, calcite,\n",
      "Nearest to to: would, cannot, should, monorails, whipping, citt, brooms, not,\n",
      "Nearest to see: include, list, bce, squash, can, knob, mahayana, networking,\n",
      "Nearest to war: gladstone, obsessed, wars, signatures, paso, socio, parmenides, survival,\n",
      "Nearest to but: however, although, though, and, when, possess, which, if,\n",
      "Nearest to by: through, with, eucalyptus, barbour, under, be, ridges, irresponsible,\n",
      "Nearest to two: three, four, five, six, seven, eight, one, zero,\n",
      "Nearest to first: last, second, next, dickson, fourth, final, previous, third,\n",
      "Nearest to into: from, through, with, projecting, outer, over, out, in,\n",
      "Nearest to on: upon, in, through, within, under, puppets, rainforest, from,\n",
      "Nearest to these: some, many, several, those, all, which, such, both,\n",
      "Nearest to about: over, pacioli, latter, foulke, ignoring, best, biographers, dtmf,\n",
      "Nearest to when: if, before, after, while, during, where, although, though,\n",
      "Average loss at step 62000 : 3.242575275\n",
      "Average loss at step 64000 : 3.2554131602\n",
      "Average loss at step 66000 : 3.40418171167\n",
      "Average loss at step 68000 : 3.39384440535\n",
      "Average loss at step 70000 : 3.35557947797\n",
      "Nearest to one: six, two, four, eight, seven, five, nine, three,\n",
      "Nearest to d: b, thoughtful, o, dazed, defiant, exterminating, vanities, j,\n",
      "Nearest to as: is, like, shoot, tillich, when, summon, athos, positivists,\n",
      "Nearest to UNK: chickasaw, online, edmond, pretending, surmounted, similarly, commemorates, josef,\n",
      "Nearest to to: whipping, would, will, can, may, analogously, cannot, practises,\n",
      "Nearest to see: include, list, squash, bce, debating, approximation, knob, com,\n",
      "Nearest to war: wars, gladstone, obsessed, paso, socio, signatures, survival, traders,\n",
      "Nearest to but: however, though, although, which, gules, that, when, and,\n",
      "Nearest to by: through, using, destroyer, in, with, cantata, boating, be,\n",
      "Nearest to two: three, four, six, seven, five, one, eight, zero,\n",
      "Nearest to first: second, last, next, fourth, previous, final, dickson, third,\n",
      "Nearest to into: from, through, projecting, outer, beyond, hellish, in, concerning,\n",
      "Nearest to on: upon, in, through, within, under, at, haider, profane,\n",
      "Nearest to these: some, many, such, several, those, their, which, brummell,\n",
      "Nearest to about: over, pacioli, phoenicians, best, turbocharger, latter, comment, ignoring,\n",
      "Nearest to when: if, before, where, after, while, though, however, during,\n",
      "Average loss at step 72000 : 3.37483571094\n",
      "Average loss at step 74000 : 3.3486133995\n",
      "Average loss at step 76000 : 3.31011595622\n",
      "Average loss at step 78000 : 3.35347996318\n",
      "Average loss at step 80000 : 3.37896558809\n",
      "Nearest to one: seven, six, two, eight, five, four, three, nine,\n",
      "Nearest to d: b, thoughtful, ionization, o, vanities, f, h, l,\n",
      "Nearest to as: neuroimaging, definitional, eigenvalue, verus, etiquette, summon, jeju, adl,\n",
      "Nearest to UNK: dr, endowments, sadness, aa, biochemist, smith, walter, kelly,\n",
      "Nearest to to: practises, whipping, will, plucking, analogously, ailey, moneo, organizers,\n",
      "Nearest to see: include, links, references, knob, repugnant, list, according, refers,\n",
      "Nearest to war: wars, gladstone, survival, custom, obsessed, socio, parmenides, traders,\n",
      "Nearest to but: however, although, though, which, or, and, while, probably,\n",
      "Nearest to by: with, when, boating, through, being, using, chubut, travelogue,\n",
      "Nearest to two: three, four, six, five, seven, one, eight, zero,\n",
      "Nearest to first: second, last, next, third, final, fourth, previous, dickson,\n",
      "Nearest to into: from, through, projecting, within, outer, hellish, beyond, coriander,\n",
      "Nearest to on: upon, in, through, at, commemorating, sacrum, within, during,\n",
      "Nearest to these: several, many, those, such, some, various, they, both,\n",
      "Nearest to about: over, pacioli, best, vestibule, phoenicians, betsy, comment, ignoring,\n",
      "Nearest to when: before, if, after, while, though, during, where, although,\n",
      "Average loss at step 82000 : 3.40506447899\n",
      "Average loss at step 84000 : 3.40952285904\n",
      "Average loss at step 86000 : 3.38918312982\n",
      "Average loss at step 88000 : 3.34771559346\n",
      "Average loss at step 90000 : 3.36327190053\n",
      "Nearest to one: seven, four, two, eight, five, three, six, nine,\n",
      "Nearest to d: b, skynyrd, defiant, wysiwyg, o, bohm, vanities, l,\n",
      "Nearest to as: definitional, hagelin, summon, neuroimaging, qxd, pseudonym, annihilated, vis,\n",
      "Nearest to UNK: recurrent, honoria, josef, von, agave, supplementation, ing, com,\n",
      "Nearest to to: will, moneo, barely, shall, would, whipping, practises, brooms,\n",
      "Nearest to see: links, debating, includes, com, references, repugnant, list, include,\n",
      "Nearest to war: wars, gladstone, survival, paso, obsessed, custom, haller, during,\n",
      "Nearest to but: however, although, and, though, which, probably, asks, brushes,\n",
      "Nearest to by: through, using, when, barbour, during, cantata, under, destroyer,\n",
      "Nearest to two: three, four, five, six, eight, seven, one, zero,\n",
      "Nearest to first: last, second, next, final, original, fourth, third, previous,\n",
      "Nearest to into: through, from, beyond, projecting, outer, around, within, fiendish,\n",
      "Nearest to on: upon, under, through, at, commemorating, during, within, in,\n",
      "Nearest to these: several, many, some, those, various, such, both, are,\n",
      "Nearest to about: over, comment, pacioli, best, betsy, phoenicians, latter, neglects,\n",
      "Nearest to when: before, while, after, if, where, though, although, until,\n",
      "Average loss at step 92000 : 3.39545147103\n",
      "Average loss at step 94000 : 3.24963179934\n",
      "Average loss at step 96000 : 3.35696206814\n",
      "Average loss at step 98000 : 3.24796127692\n",
      "Average loss at step 100000 : 3.35800097191\n",
      "Nearest to one: two, five, seven, four, eight, six, nine, three,\n",
      "Nearest to d: b, heiland, defiant, harrow, exterminating, convention, marie, multihull,\n",
      "Nearest to as: when, sabbatical, hagelin, diaspora, like, positivists, wimsey, tillich,\n",
      "Nearest to UNK: fundraising, tz, druidry, jong, wisc, alexandre, aidan, memorably,\n",
      "Nearest to to: could, should, can, would, cannot, whipping, will, may,\n",
      "Nearest to see: com, links, includes, list, refers, org, knob, references,\n",
      "Nearest to war: wars, survival, gladstone, lipids, traders, haller, obsessed, paso,\n",
      "Nearest to but: however, although, and, though, which, while, appear, where,\n",
      "Nearest to by: under, through, barbour, when, against, destroyer, including, using,\n",
      "Nearest to two: four, five, three, six, seven, eight, one, nine,\n",
      "Nearest to first: last, next, second, final, third, fourth, previous, board,\n",
      "Nearest to into: through, from, beyond, in, within, onto, projecting, on,\n",
      "Nearest to on: upon, through, at, in, within, under, gypsies, around,\n",
      "Nearest to these: several, many, those, some, various, all, such, which,\n",
      "Nearest to about: pacioli, betsy, over, colonist, on, dtmf, yakuza, comment,\n",
      "Nearest to when: while, before, if, where, after, though, although, during,\n"
     ]
    }
   ],
   "source": [
    "num_steps = 100001\n",
    "\n",
    "with tf.Session(graph=graph) as session:\n",
    "  tf.initialize_all_variables().run()\n",
    "  print \"Initialized\"\n",
    "  average_loss = 0\n",
    "  for step in xrange(num_steps):\n",
    "    batch_data, batch_labels = generate_batch(\n",
    "      batch_size, num_skips, skip_window)\n",
    "    feed_dict = {train_dataset : batch_data, train_labels : batch_labels}\n",
    "    _, l = session.run([optimizer, loss], feed_dict=feed_dict)\n",
    "    average_loss += l\n",
    "    if step % 2000 == 0:\n",
    "      if step > 0:\n",
    "        average_loss = average_loss / 2000\n",
    "      # The average loss is an estimate of the loss over the last 2000 batches.\n",
    "      print \"Average loss at step\", step, \":\", average_loss\n",
    "      average_loss = 0\n",
    "    # note that this is expensive (~20% slowdown if computed every 500 steps)\n",
    "    if step % 10000 == 0:\n",
    "      sim = similarity.eval()\n",
    "      for i in xrange(valid_size):\n",
    "        valid_word = reverse_dictionary[valid_examples[i]]\n",
    "        top_k = 8 # number of nearest neighbors\n",
    "        nearest = (-sim[i, :]).argsort()[1:top_k+1]\n",
    "        log = \"Nearest to %s:\" % valid_word\n",
    "        for k in xrange(top_k):\n",
    "          close_word = reverse_dictionary[nearest[k]]\n",
    "          log = \"%s %s,\" % (log, close_word)\n",
    "        print log\n",
    "  final_embeddings = normalized_embeddings.eval()"
   ]
  },
  {
   "cell_type": "code",
   "execution_count": 33,
   "metadata": {
    "cellView": "both",
    "colab": {
     "autoexec": {
      "startup": false,
      "wait_interval": 0
     }
    },
    "colab_type": "code",
    "collapsed": false,
    "id": "jjJXYA_XzV79"
   },
   "outputs": [],
   "source": [
    "num_points = 400\n",
    "\n",
    "tsne = TSNE(perplexity=30, n_components=2, init='pca', n_iter=5000)\n",
    "two_d_embeddings = tsne.fit_transform(final_embeddings[1:num_points+1, :])"
   ]
  },
  {
   "cell_type": "code",
   "execution_count": 34,
   "metadata": {
    "cellView": "both",
    "colab": {
     "autoexec": {
      "startup": false,
      "wait_interval": 0
     },
     "output_extras": [
      {
       "item_id": 1
      }
     ]
    },
    "colab_type": "code",
    "collapsed": false,
    "executionInfo": {
     "elapsed": 4763,
     "status": "ok",
     "timestamp": 1445965465525,
     "user": {
      "color": "#1FA15D",
      "displayName": "Vincent Vanhoucke",
      "isAnonymous": false,
      "isMe": true,
      "permissionId": "05076109866853157986",
      "photoUrl": "//lh6.googleusercontent.com/-cCJa7dTDcgQ/AAAAAAAAAAI/AAAAAAAACgw/r2EZ_8oYer4/s50-c-k-no/photo.jpg",
      "sessionId": "2f1ffade4c9f20de",
      "userId": "102167687554210253930"
     },
     "user_tz": 420
    },
    "id": "o_e0D_UezcDe",
    "outputId": "df22e4a5-e8ec-4e5e-d384-c6cf37c68c34"
   },
   "outputs": [],
   "source": [
    "def plot(embeddings, labels):\n",
    "  assert embeddings.shape[0] >= len(labels), 'More labels than embeddings'\n",
    "  pylab.figure(figsize=(15,15))  # in inches\n",
    "  for i, label in enumerate(labels):\n",
    "    x, y = embeddings[i,:]\n",
    "    pylab.scatter(x, y)\n",
    "    pylab.annotate(label, xy=(x, y), xytext=(5, 2), textcoords='offset points',\n",
    "                   ha='right', va='bottom')\n",
    "  pylab.show()\n",
    "\n",
    "words = [reverse_dictionary[i] for i in xrange(1, num_points+1)]\n",
    "plot(two_d_embeddings, words)"
   ]
  },
  {
   "cell_type": "markdown",
   "metadata": {
    "colab_type": "text",
    "id": "QB5EFrBnpNnc"
   },
   "source": [
    "---\n",
    "\n",
    "Problem\n",
    "-------\n",
    "\n",
    "An alternative to Word2Vec is called [CBOW](http://arxiv.org/abs/1301.3781) (Continuous Bag of Words). In the CBOW model, instead of predicting a context word from a word vector, you predict a word from the sum of all the word vectors in its context. Implement and evaluate a CBOW model trained on the text8 dataset.\n",
    "\n",
    "---"
   ]
  },
  {
   "cell_type": "markdown",
   "metadata": {},
   "source": [
    "### Answer:"
   ]
  },
  {
   "cell_type": "code",
   "execution_count": 30,
   "metadata": {
    "collapsed": true
   },
   "outputs": [],
   "source": [
    "data_index = 0\n",
    "\n",
    "def generate_batch_cbow(batch_size, skip_window):\n",
    "  global data_index\n",
    "  if data_index + 2*skip_window + 1 >= len(data):\n",
    "    data_index = 0\n",
    "  batch = np.ndarray(shape=(batch_size, skip_window*2), dtype=np.int32)\n",
    "  labels = np.ndarray(shape=(batch_size, 1), dtype=np.int32)\n",
    "\n",
    "  for i in range(batch_size):\n",
    "    labels[i] = data[data_index + skip_window + i]\n",
    "    batch[i, :skip_window] = data[(data_index + i):(data_index + i + skip_window)]\n",
    "    batch[i, skip_window:] = data[(data_index + i + skip_window + 1):(data_index + i + 2*skip_window + 1)]\n",
    "\n",
    "  data_index = data_index + batch_size\n",
    "\n",
    "\n",
    "  return batch, labels"
   ]
  },
  {
   "cell_type": "code",
   "execution_count": 31,
   "metadata": {
    "collapsed": false
   },
   "outputs": [],
   "source": [
    "\"\"\" This should be the same as Word2Vec\n",
    "batch_size = 128\n",
    "embedding_size = 128 # Dimension of the embedding vector.\n",
    "skip_window = 1 # How many words to consider left and right.\n",
    "\n",
    "# We pick a random validation set to sample nearest neighbors. here we limit the\n",
    "# validation samples to the words that have a low numeric ID, which by\n",
    "# construction are also the most frequent. \n",
    "valid_size = 16 # Random set of words to evaluate similarity on.\n",
    "valid_window = 100 # Only pick dev samples in the head of the distribution.\n",
    "valid_examples = np.array(random.sample(xrange(valid_window), valid_size))\n",
    "num_sampled = 64 # Number of negative examples to sample.\n",
    "\"\"\"\n",
    "graph = tf.Graph()\n",
    "\n",
    "with graph.as_default():\n",
    "\n",
    "  # Input data.\n",
    "  train_dataset = tf.placeholder(tf.int32, shape=[batch_size, 2*skip_window])\n",
    "  train_labels = tf.placeholder(tf.int32, shape=[batch_size, 1])\n",
    "  valid_dataset = tf.constant(valid_examples, dtype=tf.int32)\n",
    "  \n",
    "  # Variables.\n",
    "  embeddings = tf.Variable(\n",
    "    tf.random_uniform([vocabulary_size, embedding_size], -1.0, 1.0))\n",
    "  softmax_weights = tf.Variable(\n",
    "    tf.truncated_normal([vocabulary_size, embedding_size],\n",
    "                         stddev=1.0 / math.sqrt(embedding_size)))\n",
    "  softmax_biases = tf.Variable(tf.zeros([vocabulary_size]))\n",
    "  \n",
    "  # Model.\n",
    "  # Look up embeddings for inputs.\n",
    "  embed = tf.reduce_mean( tf.nn.embedding_lookup(embeddings, train_dataset), 1 )\n",
    "  # Compute the softmax loss, using a sample of the negative labels each time.\n",
    "  loss = tf.reduce_mean(\n",
    "    tf.nn.sampled_softmax_loss(softmax_weights, softmax_biases, embed,\n",
    "                               train_labels, num_sampled, vocabulary_size))\n",
    "\n",
    "  # Optimizer.\n",
    "  optimizer = tf.train.GradientDescentOptimizer(1.0).minimize(loss)\n",
    "  \n",
    "  # Compute the similarity between minibatch examples and all embeddings.\n",
    "  # We use the cosine distance:\n",
    "  norm = tf.sqrt(tf.reduce_sum(tf.square(embeddings), 1, keep_dims=True))\n",
    "  normalized_embeddings = embeddings / norm\n",
    "  valid_embeddings = tf.nn.embedding_lookup(\n",
    "    normalized_embeddings, valid_dataset)\n",
    "  similarity = tf.matmul(valid_embeddings, tf.transpose(normalized_embeddings))"
   ]
  },
  {
   "cell_type": "code",
   "execution_count": 32,
   "metadata": {
    "collapsed": false
   },
   "outputs": [
    {
     "name": "stdout",
     "output_type": "stream",
     "text": [
      "Initialized\n",
      "Average loss at step 0 : 7.91813516617\n",
      "Nearest to one: korchnoi, docklands, realpolitik, elliot, pentatonic, vagantes, amt, tautologies,\n",
      "Nearest to d: bridles, pathogen, rommel, equitable, nsa, householder, lsch, patented,\n",
      "Nearest to as: billing, disarray, pva, mystery, scantily, enlai, thompson, critique,\n",
      "Nearest to UNK: cereal, carthaginians, stochastic, antimatter, volunteers, universelle, gunboats, inflection,\n",
      "Nearest to to: hjalmar, disclaimer, gtpase, parked, dtmf, necromancers, pomegranate, eyeball,\n",
      "Nearest to see: sunglasses, acacia, attention, midway, monarch, bonham, pakistani, hunter,\n",
      "Nearest to war: usda, bund, oilers, populous, interchangeably, unwavering, leasing, ln,\n",
      "Nearest to but: disguised, genocide, esteban, deride, numa, hitler, micheal, clarinet,\n",
      "Nearest to by: trax, infidelity, kickoff, ind, curiae, ode, journalists, stormy,\n",
      "Nearest to two: methamphetamine, mercator, enzymes, kolbin, qcd, jehoahaz, edmonds, isometry,\n",
      "Nearest to first: quay, heinz, cumming, sumner, kl, dissemination, internationalism, mirage,\n",
      "Nearest to into: dyslexia, warmblood, pertain, cultivate, babcock, tuned, wordperfect, homeomorphisms,\n",
      "Nearest to on: icaza, schedule, bulges, dolphins, paolo, documentaries, carrot, reverts,\n",
      "Nearest to these: camilla, operates, westmoreland, nosed, mcdonnell, plaza, schellenberg, kt,\n",
      "Nearest to about: trance, hildegard, jamestown, trinitarian, stews, donned, pellucidar, anus,\n",
      "Nearest to when: jungle, extensions, paramount, heston, goodnight, abatement, ruin, distillers,\n",
      "Average loss at step 2000 : 4.58772393125\n",
      "Average loss at step 4000 : 3.85520413756\n",
      "Average loss at step 6000 : 3.60990572226\n",
      "Average loss at step 8000 : 3.47077616006\n",
      "Average loss at step 10000 : 3.38506132102\n",
      "Nearest to one: lex, funniest, realpolitik, two, amt, insemination, privilege, cheat,\n",
      "Nearest to d: egerton, lsch, organisers, equitable, sonata, disposable, coining, instructional,\n",
      "Nearest to as: from, goon, in, lutetium, was, are, with, os,\n",
      "Nearest to UNK: cereal, z, kwan, clifton, when, stunned, constituencies, cheapest,\n",
      "Nearest to to: with, gtpase, for, pomegranate, disclaimer, hjalmar, eraserhead, shortstop,\n",
      "Nearest to see: sunglasses, monarch, attention, acacia, bonham, scripted, hunter, yemen,\n",
      "Nearest to war: usda, populous, interchangeably, oilers, leasing, dysprosium, rails, multicellular,\n",
      "Nearest to but: disguised, clarinet, nurtured, thoroughfare, kindred, deride, genocide, buttons,\n",
      "Nearest to by: after, on, procedural, from, airliner, with, for, were,\n",
      "Nearest to two: three, propyl, jehoahaz, surroundings, qcd, khayyam, ortelius, mercator,\n",
      "Nearest to first: sumner, same, dissemination, quay, mirage, utilising, suspending, stifling,\n",
      "Nearest to into: dyslexia, sightseeing, on, cultivate, warmblood, trenton, ezekiel, indonesian,\n",
      "Nearest to on: from, at, in, by, for, and, attributable, maps,\n",
      "Nearest to these: camilla, kt, mno, westmoreland, plaza, upto, which, scarred,\n",
      "Nearest to about: trance, trinitarian, donned, counterintelligence, jamestown, hildegard, deformity, bronson,\n",
      "Nearest to when: jungle, where, paramount, by, UNK, from, cushion, term,\n",
      "Average loss at step 12000 : 3.40988320577\n",
      "Average loss at step 14000 : 3.3859771468\n",
      "Average loss at step 16000 : 3.35492350242\n",
      "Average loss at step 18000 : 3.35342516124\n",
      "Average loss at step 20000 : 3.25154250592\n",
      "Nearest to one: two, lex, three, galactic, kekul, realpolitik, five, distal,\n",
      "Nearest to d: b, equitable, lsch, egerton, recruiting, organisers, sonata, coining,\n",
      "Nearest to as: goon, welwyn, sal, chorded, os, novell, before, eamon,\n",
      "Nearest to UNK: z, themis, kwan, universelle, cereal, poll, when, mainline,\n",
      "Nearest to to: into, would, for, will, gtpase, between, hjalmar, disclaimer,\n",
      "Nearest to see: monarch, sunglasses, scripted, has, attention, bev, yemen, mount,\n",
      "Nearest to war: usda, interchangeably, populous, oilers, dysprosium, rails, multicellular, seagram,\n",
      "Nearest to but: disguised, nurtured, clarinet, kindred, thoroughfare, behe, mostly, hervarar,\n",
      "Nearest to by: after, procedural, were, airliner, from, with, on, when,\n",
      "Nearest to two: three, one, eight, propyl, surroundings, funniest, six, four,\n",
      "Nearest to first: same, sumner, dissemination, quadrature, utilising, name, mirage, sasquatch,\n",
      "Nearest to into: from, on, with, to, sightseeing, dyslexia, by, indonesian,\n",
      "Nearest to on: from, in, at, into, by, upon, attributable, giuliano,\n",
      "Nearest to these: which, this, kt, mno, plaza, camilla, western, upto,\n",
      "Nearest to about: trance, trinitarian, donned, bronson, counterintelligence, egerton, hildegard, into,\n",
      "Nearest to when: where, jungle, by, paramount, from, term, cushion, for,\n",
      "Average loss at step 22000 : 3.29319594049\n",
      "Average loss at step 24000 : 3.27866971278\n",
      "Average loss at step 26000 : 3.199234781\n",
      "Average loss at step 28000 : 3.23688195896\n",
      "Average loss at step 30000 : 3.21523622715\n",
      "Nearest to one: two, galactic, lex, distal, y, frac, funniest, kings,\n",
      "Nearest to d: b, equitable, recruiting, lsch, egerton, organisers, sonata, coining,\n",
      "Nearest to as: goon, welwyn, before, chorded, sal, including, scantily, chaitin,\n",
      "Nearest to UNK: z, poll, mainline, themis, when, stunned, bazin, shunning,\n",
      "Nearest to to: would, will, into, can, between, gtpase, hjalmar, encapsulation,\n",
      "Nearest to see: scripted, monarch, sunglasses, bev, but, mount, ruptured, uta,\n",
      "Nearest to war: usda, interchangeably, populous, kahn, oilers, dysprosium, rails, multicellular,\n",
      "Nearest to but: disguised, nurtured, clarinet, however, and, though, behe, kindred,\n",
      "Nearest to by: after, procedural, airliner, when, were, was, global, against,\n",
      "Nearest to two: three, one, four, six, propyl, eight, funniest, surroundings,\n",
      "Nearest to first: same, sumner, sasquatch, dissemination, name, quadrature, southern, crushing,\n",
      "Nearest to into: from, on, with, to, sightseeing, between, dyslexia, indonesian,\n",
      "Nearest to on: from, in, at, into, upon, giuliano, against, schedule,\n",
      "Nearest to these: which, this, some, kt, plaza, mno, western, all,\n",
      "Nearest to about: trance, trinitarian, donned, into, bronson, primers, counterintelligence, collar,\n",
      "Nearest to when: where, if, jungle, from, by, after, became, cushion,\n",
      "Average loss at step 32000 : 3.21607620865\n",
      "Average loss at step 34000 : 3.08341404659\n",
      "Average loss at step 36000 : 3.15998107451\n",
      "Average loss at step 38000 : 3.16815359062\n",
      "Average loss at step 40000 : 3.15256225221\n",
      "Nearest to one: two, galactic, kekul, y, seven, distal, conflicting, blackbeard,\n",
      "Nearest to d: b, equitable, recruiting, lsch, organisers, coining, sonata, instructional,\n",
      "Nearest to as: before, welwyn, scantily, goon, sal, chorded, without, me,\n",
      "Nearest to UNK: themis, mainline, z, clifton, nanoscale, kwan, w, simon,\n",
      "Nearest to to: would, will, into, can, between, hjalmar, not, cure,\n",
      "Nearest to see: scripted, bev, monarch, sunglasses, but, mount, uta, ruptured,\n",
      "Nearest to war: usda, interchangeably, oilers, kahn, populous, dysprosium, gogh, rails,\n",
      "Nearest to but: disguised, however, though, mostly, nurtured, always, kindred, behe,\n",
      "Nearest to by: after, procedural, airliner, when, be, were, was, infidelity,\n",
      "Nearest to two: three, one, six, four, propyl, seven, eight, funniest,\n",
      "Nearest to first: same, sasquatch, sumner, hickory, name, quadrature, utilising, hutchence,\n",
      "Nearest to into: from, on, with, between, to, through, sightseeing, dyslexia,\n",
      "Nearest to on: from, upon, into, at, in, giuliano, vetoed, schedule,\n",
      "Nearest to these: which, some, this, all, kt, mno, plaza, such,\n",
      "Nearest to about: trance, trinitarian, donned, into, primers, bronson, collar, weary,\n",
      "Nearest to when: where, if, jungle, before, after, became, by, from,\n",
      "Average loss at step 42000 : 3.15439123034\n",
      "Average loss at step 44000 : 3.17355131406\n",
      "Average loss at step 46000 : 3.12934366828\n",
      "Average loss at step 48000 : 3.13761405975\n",
      "Average loss at step 50000 : 3.06345612684\n",
      "Nearest to one: two, galactic, rubbish, distal, conflicting, blackbeard, y, pentatonic,\n",
      "Nearest to d: b, equitable, recruiting, coining, lsch, l, sonata, householder,\n",
      "Nearest to as: before, without, welwyn, scantily, sal, chorded, packaged, goon,\n",
      "Nearest to UNK: themis, mainline, nanoscale, z, faqs, universelle, cheapest, octagon,\n",
      "Nearest to to: would, will, into, can, not, must, hjalmar, might,\n",
      "Nearest to see: scripted, bev, monarch, mount, but, sunglasses, uta, ruptured,\n",
      "Nearest to war: interchangeably, usda, oilers, kahn, populous, dysprosium, gogh, seagram,\n",
      "Nearest to but: however, though, disguised, and, always, behe, mostly, kindred,\n",
      "Nearest to by: after, procedural, when, be, airliner, were, infidelity, normandy,\n",
      "Nearest to two: three, four, one, six, eight, seven, funniest, propyl,\n",
      "Nearest to first: same, sasquatch, sumner, next, hickory, quadrature, name, utilising,\n",
      "Nearest to into: from, on, through, with, between, to, sightseeing, dyslexia,\n",
      "Nearest to on: upon, in, into, from, at, giuliano, vetoed, against,\n",
      "Nearest to these: some, which, such, many, all, kt, this, mno,\n",
      "Nearest to about: trance, trinitarian, primers, donned, into, under, bronson, weary,\n",
      "Nearest to when: where, if, before, jungle, after, by, became, while,\n",
      "Average loss at step 52000 : 3.07628966039\n",
      "Average loss at step 54000 : 3.08615453535\n",
      "Average loss at step 56000 : 3.10002759022\n",
      "Average loss at step 58000 : 2.98428749973\n",
      "Average loss at step 60000 : 3.04960322911\n",
      "Nearest to one: two, galactic, rubbish, tea, conflicting, kekul, uncivilized, mandriva,\n",
      "Nearest to d: b, equitable, recruiting, l, householder, lsch, coining, heidelberg,\n",
      "Nearest to as: before, without, welwyn, sal, packaged, chorded, scantily, goon,\n",
      "Nearest to UNK: w, de, themis, iii, l, r, nanoscale, arctocephalus,\n",
      "Nearest to to: would, will, must, into, might, can, dash, not,\n",
      "Nearest to see: scripted, bev, but, includes, mount, sunglasses, monarch, ruptured,\n",
      "Nearest to war: interchangeably, usda, oilers, kahn, populous, gogh, dysprosium, connacht,\n",
      "Nearest to but: however, though, and, disguised, always, behe, see, mostly,\n",
      "Nearest to by: after, procedural, when, infidelity, be, airliner, normandy, yupik,\n",
      "Nearest to two: three, four, six, one, five, funniest, sixteen, rudder,\n",
      "Nearest to first: same, next, hickory, sasquatch, sumner, hutchence, name, utilising,\n",
      "Nearest to into: from, through, with, on, between, to, sightseeing, applying,\n",
      "Nearest to on: upon, in, from, into, at, against, through, giuliano,\n",
      "Nearest to these: some, which, such, all, many, kt, they, mno,\n",
      "Nearest to about: trance, trinitarian, primers, donned, under, mere, into, bronson,\n",
      "Nearest to when: where, if, before, after, jungle, while, though, became,\n",
      "Average loss at step 62000 : 3.06259307188\n",
      "Average loss at step 64000 : 3.04613893378\n",
      "Average loss at step 66000 : 2.95534285152\n",
      "Average loss at step 68000 : 2.96746461004\n",
      "Average loss at step 70000 : 2.99292857\n",
      "Nearest to one: two, rubbish, tea, galactic, conflicting, mi, blackbeard, distal,\n",
      "Nearest to d: b, equitable, recruiting, l, bomber, householder, coining, instructional,\n",
      "Nearest to as: without, before, chorded, sal, packaged, scantily, welwyn, mystery,\n",
      "Nearest to UNK: z, l, arctocephalus, marlene, derby, denis, deepest, valium,\n",
      "Nearest to to: would, will, must, might, can, into, through, hjalmar,\n",
      "Nearest to see: scripted, but, includes, bev, mount, sunglasses, blemish, genitals,\n",
      "Nearest to war: interchangeably, oilers, usda, kahn, gogh, populous, dysprosium, connacht,\n",
      "Nearest to but: however, though, and, disguised, always, mostly, see, behe,\n",
      "Nearest to by: after, procedural, when, infidelity, be, classic, normandy, yupik,\n",
      "Nearest to two: three, four, six, five, seven, one, eight, funniest,\n",
      "Nearest to first: same, next, second, hickory, sasquatch, last, dissemination, sumner,\n",
      "Nearest to into: from, through, with, on, between, to, sightseeing, applying,\n",
      "Nearest to on: upon, in, at, into, from, through, against, around,\n",
      "Nearest to these: some, such, which, many, all, kt, those, they,\n",
      "Nearest to about: trance, trinitarian, primers, mere, fulfills, donned, bronson, into,\n",
      "Nearest to when: where, if, before, after, jungle, though, while, during,\n",
      "Average loss at step 72000 : 2.98921383941\n",
      "Average loss at step 74000 : 3.00574858457\n",
      "Average loss at step 76000 : 2.9053996588\n",
      "Average loss at step 78000 : 3.00985581458\n",
      "Average loss at step 80000 : 3.03057284743\n",
      "Nearest to one: two, galactic, distal, mi, france, rubbish, insemination, kekul,\n",
      "Nearest to d: b, l, recruiting, equitable, bomber, heidelberg, instructional, householder,\n",
      "Nearest to as: before, without, sal, packaged, scantily, dubs, welwyn, disarray,\n",
      "Nearest to UNK: z, l, censored, clifton, stunned, themis, sina, marlene,\n",
      "Nearest to to: will, would, must, might, into, can, not, hjalmar,\n",
      "Nearest to see: scripted, includes, but, bev, blemish, genitals, mount, uta,\n",
      "Nearest to war: interchangeably, oilers, usda, kahn, gogh, populous, dysprosium, connacht,\n",
      "Nearest to but: however, though, and, disguised, always, see, behe, mostly,\n",
      "Nearest to by: after, when, procedural, infidelity, be, normandy, stormy, yupik,\n",
      "Nearest to two: three, four, six, one, five, seven, eight, brahmi,\n",
      "Nearest to first: same, next, second, last, hickory, sasquatch, hutchence, utilising,\n",
      "Nearest to into: from, through, with, on, between, to, sightseeing, applying,\n",
      "Nearest to on: upon, at, in, into, against, around, through, despite,\n",
      "Nearest to these: some, such, which, many, all, those, kt, they,\n",
      "Nearest to about: trance, trinitarian, primers, mere, causing, weary, fulfills, donned,\n",
      "Nearest to when: where, if, before, after, while, during, by, jungle,\n",
      "Average loss at step 82000 : 2.98001117003\n",
      "Average loss at step 84000 : 2.90766770959\n",
      "Average loss at step 86000 : 2.97553333908\n",
      "Average loss at step 88000 : 2.95327896351\n",
      "Average loss at step 90000 : 2.9622586816\n",
      "Nearest to one: two, distal, galactic, rubbish, kekul, mi, tea, quarters,\n",
      "Nearest to d: b, l, recruiting, equitable, bomber, heidelberg, lumbar, householder,\n",
      "Nearest to as: sal, before, without, disarray, although, scantily, packaged, including,\n",
      "Nearest to UNK: z, arctocephalus, hereditary, tier, l, denis, ethiopians, correlations,\n",
      "Nearest to to: would, will, must, might, should, into, across, can,\n",
      "Nearest to see: scripted, includes, but, bev, genitals, blemish, uta, ruptured,\n",
      "Nearest to war: interchangeably, oilers, usda, kahn, gogh, populous, lecompton, rails,\n",
      "Nearest to but: however, though, and, although, disguised, deprivation, see, always,\n",
      "Nearest to by: after, when, procedural, infidelity, classic, stormy, airliner, trax,\n",
      "Nearest to two: three, four, six, five, one, eight, seven, funniest,\n",
      "Nearest to first: same, next, second, last, hickory, sasquatch, nextstep, hutchence,\n",
      "Nearest to into: from, through, with, on, between, applying, sightseeing, iru,\n",
      "Nearest to on: upon, in, at, around, through, against, into, despite,\n",
      "Nearest to these: some, such, which, those, many, all, kt, they,\n",
      "Nearest to about: trance, trinitarian, mere, primers, causing, weary, reichstag, liliales,\n",
      "Nearest to when: where, if, before, after, while, by, jungle, though,\n",
      "Average loss at step 92000 : 2.96531984776\n",
      "Average loss at step 94000 : 2.89956611258\n",
      "Average loss at step 96000 : 2.95276992226\n",
      "Average loss at step 98000 : 2.92620296025\n",
      "Average loss at step 100000 : 2.69375313795\n",
      "Nearest to one: rubbish, tea, nuggets, galactic, decker, northern, uncivilized, mi,\n",
      "Nearest to d: b, l, recruiting, equitable, bomber, heidelberg, instructional, coining,\n",
      "Nearest to as: before, sal, scantily, disarray, without, mystery, although, dubs,\n",
      "Nearest to UNK: derby, repelled, octagon, de, l, hereditary, bazin, nagasaki,\n",
      "Nearest to to: will, would, must, might, should, across, through, into,\n",
      "Nearest to see: scripted, includes, bev, but, genitals, blemish, external, ruptured,\n",
      "Nearest to war: interchangeably, oilers, usda, kahn, lecompton, gogh, connacht, populous,\n",
      "Nearest to but: however, though, and, although, whilst, disguised, see, deprivation,\n",
      "Nearest to by: after, procedural, when, infidelity, classic, yupik, stormy, against,\n",
      "Nearest to two: three, four, six, five, seven, propyl, brahmi, effected,\n",
      "Nearest to first: same, next, last, second, hickory, nextstep, sasquatch, league,\n",
      "Nearest to into: from, through, on, with, between, applying, iru, sightseeing,\n",
      "Nearest to on: upon, in, around, at, through, into, against, despite,\n",
      "Nearest to these: such, some, those, which, all, many, kt, they,\n",
      "Nearest to about: trance, trinitarian, mere, primers, causing, reichstag, weary, geometric,\n",
      "Nearest to when: if, where, before, after, while, during, by, though,\n",
      "Total time: 771.413803816\n"
     ]
    }
   ],
   "source": [
    "num_steps = 100001\n",
    "import time\n",
    "start = time.time()\n",
    "\n",
    "with tf.Session(graph=graph) as session:\n",
    "  tf.initialize_all_variables().run()\n",
    "  print \"Initialized\"\n",
    "  average_loss = 0\n",
    "  for step in xrange(num_steps):\n",
    "    batch_data, batch_labels = generate_batch_cbow(\n",
    "      batch_size, skip_window)\n",
    "    feed_dict = {train_dataset : batch_data, train_labels : batch_labels}\n",
    "    _, l = session.run([optimizer, loss], feed_dict=feed_dict)\n",
    "    average_loss += l\n",
    "    if step % 2000 == 0:\n",
    "      if step > 0:\n",
    "        average_loss = average_loss / 2000\n",
    "      # The average loss is an estimate of the loss over the last 2000 batches.\n",
    "      print \"Average loss at step\", step, \":\", average_loss\n",
    "      average_loss = 0\n",
    "    # note that this is expensive (~20% slowdown if computed every 500 steps)\n",
    "    if step % 10000 == 0:\n",
    "      sim = similarity.eval()\n",
    "      for i in xrange(valid_size):\n",
    "        valid_word = reverse_dictionary[valid_examples[i]]\n",
    "        top_k = 8 # number of nearest neighbors\n",
    "        nearest = (-sim[i, :]).argsort()[1:top_k+1]\n",
    "        log = \"Nearest to %s:\" % valid_word\n",
    "        for k in xrange(top_k):\n",
    "          close_word = reverse_dictionary[nearest[k]]\n",
    "          log = \"%s %s,\" % (log, close_word)\n",
    "        print log\n",
    "  final_embeddings2 = normalized_embeddings.eval()\n",
    "\n",
    "print(\"Total time: \" + str(time.time() - start))"
   ]
  },
  {
   "cell_type": "code",
   "execution_count": 19,
   "metadata": {
    "collapsed": false
   },
   "outputs": [
    {
     "data": {
      "text/plain": [
       "array([   13,    23,    22,    16,    21,     8,    17, 32402])"
      ]
     },
     "execution_count": 19,
     "metadata": {},
     "output_type": "execute_result"
    }
   ],
   "source": [
    "nearest"
   ]
  },
  {
   "cell_type": "code",
   "execution_count": 21,
   "metadata": {
    "collapsed": false
   },
   "outputs": [
    {
     "data": {
      "text/plain": [
       "36"
      ]
     },
     "execution_count": 21,
     "metadata": {},
     "output_type": "execute_result"
    }
   ],
   "source": [
    "dictionary['he']"
   ]
  },
  {
   "cell_type": "code",
   "execution_count": null,
   "metadata": {
    "collapsed": true
   },
   "outputs": [],
   "source": []
  }
 ],
 "metadata": {
  "colab": {
   "default_view": {},
   "name": "5_word2vec.ipynb",
   "version": "0.3.2",
   "views": {}
  },
  "kernelspec": {
   "display_name": "Python 2",
   "language": "python",
   "name": "python2"
  },
  "language_info": {
   "codemirror_mode": {
    "name": "ipython",
    "version": 2
   },
   "file_extension": ".py",
   "mimetype": "text/x-python",
   "name": "python",
   "nbconvert_exporter": "python",
   "pygments_lexer": "ipython2",
   "version": "2.7.9"
  }
 },
 "nbformat": 4,
 "nbformat_minor": 0
}
